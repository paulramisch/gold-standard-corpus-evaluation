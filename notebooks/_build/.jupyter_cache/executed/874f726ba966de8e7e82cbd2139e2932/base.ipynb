{
 "cells": [
  {
   "cell_type": "code",
   "execution_count": 1,
   "id": "b76e4b04-f613-4b66-aa13-2cd9b1a45c71",
   "metadata": {},
   "outputs": [],
   "source": [
    "import random\n",
    "import os\n",
    "minutes_sample = []\n",
    "\n",
    "# Iteriere über alle Perioden\n",
    "for period in range(1, 19):\n",
    "    period_string = str(period).zfill(2)\n",
    "    path = '../data/raw' + '/' + period_string\n",
    "    \n",
    "    # Zähle die XML-Dateien in dem entsprechenden Perioden-Rohdaten-Ordner\n",
    "    count = len([name for name in os.listdir(path) if name.endswith('.xml') and os.path.isfile(os.path.join(path, name))])     \n",
    "    # Ziehe nacheinander zwei zufällige Zallen aus der Anzahl der Protokolle der Periode\n",
    "    min_samples = random.sample(range(1, count + 1), 2)\n",
    "    \n",
    "    # Baue die Strings, die die beiden Protokolle repräsentieren und hänge sie an die Liste der Samples an\n",
    "    minutes_sample += [period_string + str(min_sample).zfill(3) for min_sample in min_samples]"
   ]
  },
  {
   "cell_type": "code",
   "execution_count": 2,
   "id": "f2d2d2f0-5aed-4096-af0d-7a966cc04e16",
   "metadata": {},
   "outputs": [],
   "source": [
    "minutes_sample = ['01020', '01229', '02087', '02202', '03018', '03103', '04015', '04184', '05101', '05158', \n",
    "                 '06017', '06185', '07118', '07140', '08025', '08080', '09014', '09126', '10061', '10213', \n",
    "                 '11102', '11124', '12037', '12152', '13176', '13217', '14145', '14150', '15058', '15077', \n",
    "                 '16002', '16133', '17036', '17248', '18014', '18088']"
   ]
  },
  {
   "cell_type": "code",
   "execution_count": null,
   "id": "b4030fbd-ce4b-4de1-b392-d301b81c9667",
   "metadata": {},
   "outputs": [],
   "source": []
  }
 ],
 "metadata": {
  "kernelspec": {
   "display_name": "Python 3 (ipykernel)",
   "language": "python",
   "name": "python3"
  },
  "language_info": {
   "codemirror_mode": {
    "name": "ipython",
    "version": 3
   },
   "file_extension": ".py",
   "mimetype": "text/x-python",
   "name": "python",
   "nbconvert_exporter": "python",
   "pygments_lexer": "ipython3",
   "version": "3.9.12"
  },
  "toc-autonumbering": false
 },
 "nbformat": 4,
 "nbformat_minor": 5
}