{
 "cells": [
  {
   "cell_type": "markdown",
   "id": "3993e848-d61b-4d3d-8f21-37efb19f39ff",
   "metadata": {},
   "source": [
    "Paul Ramisch\n",
    "\n",
    "# Goldstandard-Korpus-Evaluation als Methode digitaler Quellenkritik in den Geschichtswissenschaften am Beispiel des Open-Discourse-Korpus der Bundestagsprotokolle\n",
    "\n",
    "Humboldt-Universität zu Berlin  \n",
    "Philosophische Fakultät  \n",
    "Institut für Geschichtswissenschaften\n",
    "<hr />"
   ]
  },
  {
   "cell_type": "markdown",
   "id": "b37b739c-d91a-4bc6-8d68-1f6158d4cc9b",
   "metadata": {},
   "source": [
    "**tl;dr:** Die in dieser Arbeit entwickelte Goldstandard-Korpus-Evaluation ermöglicht eine teil-automatisierte Stichproben-Untersuchung, die starke strukturelle Mängel im Bundestags-Redebeitrags-Korpus Open Discourse offenbart und die Relevanz neuer Methoden digitaler Quellenkritik zeigt.\n",
    "\n",
    "***"
   ]
  },
  {
   "cell_type": "markdown",
   "id": "b211b417-8f48-49e4-90a2-04fed9618c6c",
   "metadata": {},
   "source": [
    "## Vortrag\n",
    "Auf der Digital History Tagung 2023 in Berlin wurde die Arbeit vorgestellt, den Mitschnitt davon gibt es auf Youtube:  \n",
    "https://www.youtube.com/watch?v=XIOo-AhwJuU\n",
    "\n",
    "## Poster\n",
    "Einen schnellen Überblick über die Methode und Fallstudie bietet auch das Poster zu dem Projekt, das auf Zenodo bereitsteht:  \n",
    "https://zenodo.org/record/8135738\n",
    "\n",
    "## Code\n",
    "Die dieser Seite zugrundeliegenden Jupyter Notebooks mit dem Code und Daten sind auf Github zu finden:\n",
    "https://github.com/paulramisch/gold-standard-corpus-evaluation"
   ]
  }
 ],
 "metadata": {
  "kernelspec": {
   "display_name": "Python 3 (ipykernel)",
   "language": "python",
   "name": "python3"
  },
  "language_info": {
   "codemirror_mode": {
    "name": "ipython",
    "version": 3
   },
   "file_extension": ".py",
   "mimetype": "text/x-python",
   "name": "python",
   "nbconvert_exporter": "python",
   "pygments_lexer": "ipython3",
   "version": "3.9.12"
  }
 },
 "nbformat": 4,
 "nbformat_minor": 5
}
