{
 "cells": [
  {
   "cell_type": "markdown",
   "id": "3bdddf2d-5c78-4926-8baf-83c7e1dfd6e3",
   "metadata": {},
   "source": [
    "# Literaturverzeichnis"
   ]
  },
  {
   "cell_type": "markdown",
   "id": "eefb43a8-34a7-47c6-9456-4feb70fdd2e4",
   "metadata": {},
   "source": [
    "<div id=\"hanging_paragraphs\">\n",
    "    \n",
    "Althage, Melanie, Potenziale und Grenzen der Topic- Modellierung mit Latent Dirichlet Allocation für die Digital History, in: Karoline Dominika Döring Döring, Stefan Haas, Mareike König, u. a. (Hrsg.), Digital History: Konzepte, Methoden und Kritiken Digitaler Geschichtswissenschaft, Bd. 6, Berlin, Boston 2022 (Studies in Digital History and Hermeneutics), S. 255–278, https://doi.org/10.1515/9783110757101-014.\n",
    "\n",
    "Fickers, Andreas, Update für die Hermeneutik. Geschichtswissenschaft auf dem Weg zur digitalen Forensik?, in: Zeithistorische Forschungen–Studies in Contemporary History 17/1, ZZF–Centre for Contemporary History: Zeithistorische Forschungen, 2020, S. 157–168.\n",
    "\n",
    "Fickers, Andreas, Authenticity: Historical Data Integrity and the Layered Materiality of Digital Objects, in: Gabriele Balbi, Nelson Ribeiro, Valérie Schafer, u. a. (Hrsg.), Digital Roots. Historicizing Media and Communication Concepts of the Digital Age, Bd. 4, Berlin, Boston 2021 (Studies in Digital History and Hermeneutics), S. 299–312, https://doi.org/10.1515/9783110740202-017.\n",
    "\n",
    "Fickers, Andreas, What the D does to history: Das digitale Zeitalter als neues historisches Zeitregime?, in: Digital History, 2022, S. 45–64, https://doi.org/10.1515/9783110757101-003.\n",
    "\n",
    "Föhr, Pascal, Historische Quellenkritik im digitalen Zeitalter (E-humanities), Glückstadt 2019, Deutsche Nationalbibliothek, http://edoc.unibas.ch/diss/DissB_12621.\n",
    "\n",
    "Hiltmann, Torsten, Vom Medienwandel zum Methodenwandel: Die fortschreitende Digitalisierung und ihre Konsequenzen für die Geschichtswissenschaften in historischer Perspektive, in: Karoline Dominika Döring, Stefan Haas, Mareike König, u. a. (Hrsg.), Digital History, 2022, S. 13–44, https://doi.org/10.1515/9783110757101-002.\n",
    "\n",
    "Hiltmann, Torsten, Keupp, Jan, Althage, Melanie, u. a., Digital Methods in Practice, in: Geschichte und Gesellschaft 47/1, Vandenhoeck & Ruprecht, 2021, S. 122–156, https://doi.org/10.13109/gege.2021.47.1.122.\n",
    "\n",
    "Hodel, Tobias, Die Maschine und die Geschichtswissenschaft: Der Einfluss von deep learning auf eine Disziplin, in: Digital History, 2022, S. 65–80, https://doi.org/10.1515/9783110757101-004.\n",
    "\n",
    "Johann Gustav, Droysen, Grundriss der Historik, Leipzig 1868, Deutsches Textarchiv, https://www.deutschestextarchiv.de/book/view/droysen_historik_1868/?hl=Urtheil;p=27 (abgerufen: 28.06.2023).\n",
    "\n",
    "Katharina, Hering, Provenance Meets Source Criticism Journal of Digital Humanities, in: Journal of Digital Humanities 3/2, 2014, https://journalofdigitalhumanities.org/3-2/provenance-meets-source-criticism/ (abgerufen: 06.04.2023).\n",
    "\n",
    "Kraus, Jakob, Franke, Oliver, Richter, Florian, Open Discourse, Limebit GmbH, 26.06.2023 [2. Oktober 2020], GitHub, https://github.com/open-discourse/open-discourse (abgerufen: 29.06.2023).\n",
    "\n",
    "Müller, Volker, Deutscher Bundestag - 20 Jahre Deutscher Bundestag im Internet, Deutscher Bundestag, o. D., https://www.bundestag.de/webarchiv/textarchiv/2016/kw04-20-jahre-bundestag-im-internet-403918 (abgerufen: 29.06.2023).\n",
    "\n",
    "Pfanzelter, Eva, Die historische Quellenkritik und das Digitale, in: Archiv und Wirtschaft 48/1, 2015, S. 5–19.\n",
    "\n",
    "Ramisch, Paul, Bundestag Speech Tagger: Comparison of Different Machine Learning Architectures to Structure Plenary Minutes, 01.03.2023 [28. November 2022], https://github.com/paulramisch/bundestag_speech_tagger (abgerufen: 26.04.2023).\n",
    "\n",
    "Richter, Florian, Philipp Koch, Oliver Franke, u. a., Open Discourse: Towards the first fully Comprehensive and Annotated Corpus of the Parliamentary Protocols of the German Bundestag in, OSF Preprints 2023, https://doi.org/10.31235/osf.io/dx87u.\n",
    "\n",
    "Schöch, Christof, Big? Smart? Clean? Messy? Data in the Humanities, in: Journal of Digital Humanities 2/3, 2013, S. 2-13.\n",
    "\n",
    "Strange, Carolyn, Daniel McNamara, Josh Wodak, u. a., Mining for the Meanings of a Murder: The Impact of OCR Quality on the Use of Digitized Historical Newspapers, in: Digital Humanities Quarterly 8/1, 2014, http://www.digitalhumanities.org/dhq/vol/8/1/000168/000168.html.\n",
    "\n",
    "Strasser, Bruno J., Paul N. Edwards, Big Data Is the Answer … But What Is the Question?, in: Osiris 32/1, The University of Chicago Press, 2017, https://doi.org/10.1086/694223, S. 328–345.\n",
    "\n",
    "Strien, D. van, K. Beelen, M. C. Ardanuy, u. a., Assessing the impact of OCR quality on downstream NLP tasks, in: Proceedings of the 12th International Conference on Agents and Artificial Intelligence, 2020, S. 484–496, https://doi.org/10.5220/0009169004840496.\n",
    "\n",
    "Volk, Martin, Marek, Torsten, Sennrich, Rico, Reducing OCR errors by combining two OCR systems in, s.n., 16.08.2010, https://doi.org/10.5167/UZH-35259.\n",
    "\n",
    "Wissler, Lars, Mohammed Almashraee, Dagmar Monett, u. a., The Gold Standard in Corpus Annotation, in: Proceedings of the 5th IEEE Germany Students Conference 2014, ResearchGate 2014, https://doi.org/10.13140/2.1.4316.3523.\n",
    "\n",
    "Beschlussempfehlung und Bericht des Ausschusses für Wahlprüfung, Immunität und Geschäftsordnung (1. Ausschuss): Änderungen der Geschäftsordnung des Deutschen Bundestages, Deutscher Bundestag, 18.06.2009, https://dserver.bundestag.de/btd/16/134/1613492.pdf.\n",
    "\n",
    "Bundestags-Plenar-Protokolle im XML-Format: Aufbau der Strukturdefinition – DTD, Deutscher Bundestag, 07.02.2022, https://www.bundestag.de/resource/blob/577234/4c8091d8650fe417016bb48e604e3eaf/dbtplenarprotokoll_kommentiert-data.pdf.\n",
    "\n",
    "Deutscher Bundestag - Gastredner, Deutscher Bundestag, o. D., https://www.bundestag.de/services/glossar/glossar/G/gastredner-857066 (abgerufen: 26.06.2023).\n",
    "\n",
    "Geschäftsordnung des Deutschen Bundestages, o. D., https://www.bundestag.de/parlament/aufgaben/rechtsgrundlagen/go_btg (abgerufen: 13.10.2021).\n",
    "\n",
    "Geschäftsordnung: IV. Fraktionen, Deutscher Bundestag, o. D, https://www.bundestag.de/parlament/aufgaben/rechtsgrundlagen/go_btg/go04-245158 (abgerufen: 29.06.2023).\n",
    "\n",
    "Plenarprotokolle des deutschen Bundestages seit 1949 - Open Discourse, o. D., https://opendiscourse.de (abgerufen: 29.06.2023).\n",
    "\n",
    "Daten & Methodik, https://opendiscourse.de/, o. D., https://opendiscourse.de/methodik (abgerufen: 05.05.2023).\n",
    "\n",
    "Diskursanalyse des deutschen Bundestages seit 1949 - Open Discourse, https://opendiscourse.de/, o. D., https://opendiscourse.de/diskursanalyse (abgerufen: 29.06.2023).\n",
    "\n",
    "OmniPage 17 Standard - Nuance - standard - Convert scanned paper and digital documents into editable files, Wayback Machine, 18.03.2011, https://web.archive.org/web/20110318193528/http://www.nuance.com/for-business/by-product/omnipage/standard/index.htm (abgerufen: 29.06.2023).\n",
    "\n",
    "OmniPage 17 User’s Guide - Nuance, yumpu.com, o. D., https://www.yumpu.com/en/document/read/3266704/omnipage-17-users-guide-nuance (abgerufen: 29.06.2023).\n",
    "\n",
    "Open Discourse [@OpenDiscourseDE], ### Thread: Qualität unserer Daten ### (1/7), Tweet, Twitter, 08.03.2020, https://twitter.com/OpenDiscourseDE/status/1236590569624829953 (abgerufen: 29.06.2023).\n",
    "\n",
    "Open Discourse [@OpenDiscourseDE], (5/7) Gastredner, Tweet, Twitter, 08.03.2020, https://twitter.com/OpenDiscourseDE/status/1236590575727632384 (abgerufen: 05.05.2023).\n",
    "\n",
    "Open Discourse [@OpenDiscourseDE], (6/7) Zwischenrufe, Tweet, Twitter, 08.03.2020, https://twitter.com/OpenDiscourseDE/status/1236590577040404482 (abgerufen: 23.06.2023).\n",
    "\n",
    "Documentation Space - Open Discourse v. 1.1.0, o. D., https://open-discourse.github.io/open-discourse-documentation/1.1.0/index.html (abgerufen: 05.05.2023).\n",
    "\n",
    "3.4 Politicians Table | Documentation Space - Open Discourse v. 1.1.0, o. D., https://open-discourse.github.io/open-discourse-documentation/1.1.0/politicians-table.html (abgerufen: 29.06.2023).\n",
    "\n",
    "3.3 Factions Table | Documentation Space - Open Discourse v. 1.1.0, o. D, open-discourse.github.io (abgerufen: 29.06.2023).\n",
    "\n",
    "Zeichenfehlerrate (CER), READ-COOP, o. D., https://readcoop.eu/de/glossary/character-error-rate-cer/ (abgerufen: 27.04.2023).\n",
    "\n",
    "6.4 Parlamentarische Staatssekretäre, in: Das Datenhandbuch zur Geschichte des Deutschen Bundestages, (05.08.2022), https://www.bundestag.de/resource/blob/196246/94f232d834a90e7a4ebb8471623ed689/Kapitel_06_04_Parlamentarische_Staatssekret__re-data.pdf.\n",
    "\n",
    "§ 12a EGovG - Einzelnorm, https://www.gesetze-im-internet.de/egovg/__12a.html (abgerufen: 26.06.2023).\n",
    "\n",
    "</div>\n",
    "\n",
    "***"
   ]
  },
  {
   "cell_type": "code",
   "execution_count": 1,
   "id": "965cbbe1-a223-4bf8-9dba-48f595086e17",
   "metadata": {},
   "outputs": [
    {
     "data": {
      "text/html": [
       "<style>#hanging_paragraphs p {padding-left: 25px; text-indent: -25px;}</style>"
      ],
      "text/plain": [
       "<IPython.core.display.HTML object>"
      ]
     },
     "execution_count": 1,
     "metadata": {},
     "output_type": "execute_result"
    }
   ],
   "source": [
    "# Bessere Lesbarkeit durch CSS-Text-Indent\n",
    "from IPython.core.display import HTML\n",
    "def css_styling():\n",
    "    return HTML(\"<style>#hanging_paragraphs p {padding-left: 25px; text-indent: -25px;}</style>\")\n",
    "css_styling()"
   ]
  },
  {
   "cell_type": "code",
   "execution_count": null,
   "id": "51eb7e11-d2f7-4067-8740-36e01c61bed0",
   "metadata": {},
   "outputs": [],
   "source": []
  }
 ],
 "metadata": {
  "kernelspec": {
   "display_name": "Python 3 (ipykernel)",
   "language": "python",
   "name": "python3"
  },
  "language_info": {
   "codemirror_mode": {
    "name": "ipython",
    "version": 3
   },
   "file_extension": ".py",
   "mimetype": "text/x-python",
   "name": "python",
   "nbconvert_exporter": "python",
   "pygments_lexer": "ipython3",
   "version": "3.9.12"
  }
 },
 "nbformat": 4,
 "nbformat_minor": 5
}