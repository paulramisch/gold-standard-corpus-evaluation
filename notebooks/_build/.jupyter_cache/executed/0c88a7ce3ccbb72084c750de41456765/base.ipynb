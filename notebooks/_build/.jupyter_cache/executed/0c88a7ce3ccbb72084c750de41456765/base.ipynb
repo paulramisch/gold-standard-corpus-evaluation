{
 "cells": [
  {
   "cell_type": "code",
   "execution_count": 1,
   "id": "965cbbe1-a223-4bf8-9dba-48f595086e17",
   "metadata": {},
   "outputs": [
    {
     "data": {
      "text/html": [
       "<style>#hanging_paragraphs p {padding-left: 25px; text-indent: -25px;}</style>"
      ],
      "text/plain": [
       "<IPython.core.display.HTML object>"
      ]
     },
     "execution_count": 1,
     "metadata": {},
     "output_type": "execute_result"
    }
   ],
   "source": [
    "# Bessere Lesbarkeit durch CSS-Text-Indent\n",
    "from IPython.core.display import HTML\n",
    "def css_styling():\n",
    "    return HTML(\"<style>#hanging_paragraphs p {padding-left: 25px; text-indent: -25px;}</style>\")\n",
    "css_styling()"
   ]
  },
  {
   "cell_type": "code",
   "execution_count": null,
   "id": "2441dc45-2638-4688-a06a-10bb8fd56c69",
   "metadata": {},
   "outputs": [],
   "source": []
  }
 ],
 "metadata": {
  "kernelspec": {
   "display_name": "Python 3 (ipykernel)",
   "language": "python",
   "name": "python3"
  },
  "language_info": {
   "codemirror_mode": {
    "name": "ipython",
    "version": 3
   },
   "file_extension": ".py",
   "mimetype": "text/x-python",
   "name": "python",
   "nbconvert_exporter": "python",
   "pygments_lexer": "ipython3",
   "version": "3.9.12"
  }
 },
 "nbformat": 4,
 "nbformat_minor": 5
}