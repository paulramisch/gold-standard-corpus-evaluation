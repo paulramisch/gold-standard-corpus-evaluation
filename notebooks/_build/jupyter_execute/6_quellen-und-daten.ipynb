{
 "cells": [
  {
   "cell_type": "markdown",
   "id": "3bdddf2d-5c78-4926-8baf-83c7e1dfd6e3",
   "metadata": {},
   "source": [
    "# Quellen- & Datenverzeichnis"
   ]
  },
  {
   "cell_type": "markdown",
   "id": "eefb43a8-34a7-47c6-9456-4feb70fdd2e4",
   "metadata": {},
   "source": [
    "<div id=\"hanging_paragraphs\">\n",
    "    \n",
    "Blaette, Andreas, GermaParl - Corpus of Plenary Protocols, GitHub, 22.06.2023 [3. November 2017], https://github.com/PolMine/GermaParlTEI (abgerufen: 29.06.2023).\n",
    "\n",
    "Richter, Florian, Philipp Koch, Oliver Franke, u. a., Open Discourse, Harvard Dataverse, 04.06.2023, https://doi.org/10.7910/DVN/FIKIBO.\n",
    "\n",
    "Deutscher Bundestag - Dokumentenserver PARFORS, Wayback Machine, 06.02.2006, https://web.archive.org/web/20060206121510/http://dip.bundestag.de/parfors/parfors.htm (abgerufen: 26.06.2023).\n",
    "\n",
    "Deutscher Bundestag - Drucksachen und Plenarprotokolle des Bundestages - 1949 bis 2005, Wayback Machine, 20.03.2013, https://web.archive.org/web/20130320135845/http://pdok.bundestag.de/ (abgerufen: 29.06.2023).\n",
    "\n",
    "Deutscher Bundestag - Offene Daten, 27.10.2017, https://web.archive.org/web/20171027122855/http://www.bundestag.de/service/opendata (abgerufen: 05.05.2023).\n",
    "\n",
    "Deutscher Bundestag - Open Data: Plenarprotokolle des Deutschen Bundestags im PDF- und XML-Format, Deutscher Bundestag, https://www.bundestag.de/services/opendata (abgerufen: 05.05.2023).\n",
    "\n",
    "Deutscher Bundestag - Open Data: Stammdaten aller Abgeordneten seit 1949 im XML-Format (Stand 07.04.2022), Deutscher Bundestag, https://www.bundestag.de/resource/blob/472878/7615ae8b1b4881b303004610edcd49a0/MdB-Stammdaten-data.zip (abgerufen: 08.04.2022).\n",
    "\n",
    "Deutscher Bundestag - Plenarprotokolle Übersicht, Wayback Machine, 19.10.1996, https://web.archive.org/web/19961019120016/http://www.bundestag.de/aktuell/113.htm (abgerufen: 26.06.2023).\n",
    "\n",
    "Deutscher Bundestag - Webarchiv, https://webarchiv.bundestag.de/ (abgerufen: 29.06.2023).\n",
    "\n",
    "</div>\n",
    "\n",
    "***"
   ]
  },
  {
   "cell_type": "code",
   "execution_count": 1,
   "id": "965cbbe1-a223-4bf8-9dba-48f595086e17",
   "metadata": {},
   "outputs": [
    {
     "data": {
      "text/html": [
       "<style>#hanging_paragraphs p {padding-left: 25px; text-indent: -25px;}</style>"
      ],
      "text/plain": [
       "<IPython.core.display.HTML object>"
      ]
     },
     "execution_count": 1,
     "metadata": {},
     "output_type": "execute_result"
    }
   ],
   "source": [
    "# Bessere Lesbarkeit durch CSS-Text-Indent\n",
    "from IPython.core.display import HTML\n",
    "def css_styling():\n",
    "    return HTML(\"<style>#hanging_paragraphs p {padding-left: 25px; text-indent: -25px;}</style>\")\n",
    "css_styling()"
   ]
  },
  {
   "cell_type": "code",
   "execution_count": null,
   "id": "2441dc45-2638-4688-a06a-10bb8fd56c69",
   "metadata": {},
   "outputs": [],
   "source": []
  }
 ],
 "metadata": {
  "kernelspec": {
   "display_name": "Python 3 (ipykernel)",
   "language": "python",
   "name": "python3"
  },
  "language_info": {
   "codemirror_mode": {
    "name": "ipython",
    "version": 3
   },
   "file_extension": ".py",
   "mimetype": "text/x-python",
   "name": "python",
   "nbconvert_exporter": "python",
   "pygments_lexer": "ipython3",
   "version": "3.9.12"
  }
 },
 "nbformat": 4,
 "nbformat_minor": 5
}