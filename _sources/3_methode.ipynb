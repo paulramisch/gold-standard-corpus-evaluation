{
 "cells": [
  {
   "cell_type": "markdown",
   "id": "7d4cda6e-6678-462f-a020-30bcf1b984b6",
   "metadata": {},
   "source": [
    "# 3 Methode: Goldstandard-Korpus-Evaluation\n",
    "\n",
    "Ein Goldstandard-Korpus bezeichnet im NLP-Kontext eine manuell annotierte Textsammlung, die teils von mehreren Expert:innen unabhängig voneinander bearbeitet wurde.[[1]](#ref_1) Die Nutzung von Goldstandard-Korpora als Evaluationsgrundlage ist im Bereich der OCR-Qualität und deren Implikationen für nachgelagerte Aufgaben wie Information Retrieval, Autorenschaftsanalyse, Named-Entity-Recognition und Topic-Modelling bereits in mehreren Studien angewendet worden.[[2]](#ref_2)\n",
    "\n",
    "Dieser Prozess lässt sich für die Geschichtswissenschaften adaptieren. Ursprünglich werden die Daten komplett gespiegelt und sollen beispielhaft für ähnliche Datensätze stehen. In dem adaptierten Ansatz wird dagegen eine Stichprobe genommen, die nur für das Korpus repräsentativ ist. Der Untersuchungsgegenstand ist hier die automatisierte Annotation und Erkennung, nicht das OCR, dass den häufigsten Anwendungsfall eines Goldstandard-Korpus darstellt. Als solcher Prozess der Quellenkritik lässt sich die Goldstandard-Korpus-Evaluation in folgende fünf Schritte strukturieren:\n",
    "\n",
    "1. Festlegung der Untersuchungskriterien\n",
    "2. Stichprobe der Quelle\n",
    "3. Annotation der Stichprobe hin zu einem Goldstandard\n",
    "4. Matching beider Korpora\n",
    "5. Analyse\n",
    "\n",
    "## 3.1 Untersuchungskriterien\n",
    "\n",
    "Die Untersuchungskriterien schließen für dieses Korpus dort an, wo die bisherige Analyse der äußeren Faktoren der Rohdaten und des Open-Discourse-Korpus endete: Inwieweit die eigentlichen Redebeiträge innerhalb der Protokolle durch das Korpus repräsentiert werden. Hierbei gibt es mehrere zentrale Fragen, die zu beantworten sind:\n",
    "\n",
    "1. Sind alle Redebeiträge erkannt worden? Ist das Korpus also vollständig? \n",
    "2. Sind die Redebeiträge mit dem richtigen Umfang repräsentiert? Ist deren Text vollständig und enthält auch keinen zusätzlichen Text?\n",
    "3. Sind fälschlich als Redebeiträge erkannte Fragmente vorhanden?\n",
    "4. Sind die Redebeiträge den (richtigen) Personen zugeordnet?\n",
    "\n",
    "Eine weitere Frage betrifft die OCR-Qualität. Dies wurde aus Gründen des Umfangs in dieser Arbeit aber ausgeblendet. Open Discourse nutzt den Rohtext aus den Open Data des Bundestags und bearbeitete diesen sehr leicht durch die Filterung von Kopfzeilen und Layoutartefakten.\n",
    "\n",
    "## 3.2 Stichprobe\n",
    "\n",
    "Für die Stichprobe wurden jeweils zwei Protokolle für die Perioden 1-18 randomisiert ausgewählt.  Das bedeutet, dass die Redebeiträge bei der Auswahl zweifach geclustert sind: nach Periode und Protokoll. Dies erlaubt zwar die Repräsentation möglicher Textkonventions-Änderungen, kann aber auch einen Bias einer Überrepräsentation bestimmter Perioden aufgrund der abweichenden Anzahl der Protokolle je Periode induzieren; hinsichtlich der Clusterung in Protokollen könnten die unterschiedlichen Sitzungslängen ebenfalls ein Bias verursachen. Dem wurde in dieser Arbeit dadurch begegnet, dass eine abschließende Messung der erkannten Fehlursachen innerhalb des Gesamtkorpus erfolgte."
   ]
  },
  {
   "cell_type": "code",
   "execution_count": 1,
   "id": "b76e4b04-f613-4b66-aa13-2cd9b1a45c71",
   "metadata": {},
   "outputs": [],
   "source": [
    "import random\n",
    "import os\n",
    "minutes_sample = []\n",
    "\n",
    "# Iteriere über alle Perioden\n",
    "for period in range(1, 19):\n",
    "    period_string = str(period).zfill(2)\n",
    "    path = '../data/raw' + '/' + period_string\n",
    "    \n",
    "    # Zähle die XML-Dateien in dem entsprechenden Perioden-Rohdaten-Ordner\n",
    "    count = len([name for name in os.listdir(path) if name.endswith('.xml') and os.path.isfile(os.path.join(path, name))])     \n",
    "    # Ziehe nacheinander zwei zufällige Zallen aus der Anzahl der Protokolle der Periode\n",
    "    min_samples = random.sample(range(1, count + 1), 2)\n",
    "    \n",
    "    # Baue die Strings, die die beiden Protokolle repräsentieren und hänge sie an die Liste der Samples an\n",
    "    minutes_sample += [period_string + str(min_sample).zfill(3) for min_sample in min_samples]"
   ]
  },
  {
   "cell_type": "markdown",
   "id": "39ac237b-149d-4e05-bd88-9c5b6d0cdd9a",
   "metadata": {},
   "source": [
    "Bei jedem Abruf des Skripts wird ein eigenes Sample erzeugt. Das folgende Sample ist das Ergebnis des Zufallsskripts und lag der weiteren Untersuchung zugrunde:"
   ]
  },
  {
   "cell_type": "code",
   "execution_count": 2,
   "id": "f2d2d2f0-5aed-4096-af0d-7a966cc04e16",
   "metadata": {},
   "outputs": [],
   "source": [
    "minutes_sample = ['01020', '01229', '02087', '02202', '03018', '03103', '04015', '04184', '05101', '05158', \n",
    "                 '06017', '06185', '07118', '07140', '08025', '08080', '09014', '09126', '10061', '10213', \n",
    "                 '11102', '11124', '12037', '12152', '13176', '13217', '14145', '14150', '15058', '15077', \n",
    "                 '16002', '16133', '17036', '17248', '18014', '18088']"
   ]
  },
  {
   "cell_type": "markdown",
   "id": "33d340cd-aa02-49fc-a819-44a3c5e7b4ec",
   "metadata": {},
   "source": [
    "***\n",
    "<a id=\"ref_1\"></a>[1] Lars Wissler, Mohammed Almashraee, Dagmar Monett, u. a., The Gold Standard in Corpus Annotation, in: Proceedings of the 5th IEEE Germany Students Conference 2014, ResearchGate 2014, https://doi.org/10.13140/2.1.4316.3523, S. 2.\n",
    "\n",
    "<a id=\"ref_2\"></a>[2] D. van Strien, K. Beelen, M. C. Ardanuy, u. a., Assessing the impact of OCR quality on downstream NLP tasks, in: Proceedings of the 12th International Conference on Agents and Artificial Intelligence, 2020, https://doi.org/10.5220/0009169004840496, S. 2."
   ]
  },
  {
   "cell_type": "code",
   "execution_count": null,
   "id": "b4030fbd-ce4b-4de1-b392-d301b81c9667",
   "metadata": {},
   "outputs": [],
   "source": []
  }
 ],
 "metadata": {
  "kernelspec": {
   "display_name": "Python 3 (ipykernel)",
   "language": "python",
   "name": "python3"
  },
  "language_info": {
   "codemirror_mode": {
    "name": "ipython",
    "version": 3
   },
   "file_extension": ".py",
   "mimetype": "text/x-python",
   "name": "python",
   "nbconvert_exporter": "python",
   "pygments_lexer": "ipython3",
   "version": "3.9.12"
  },
  "toc-autonumbering": false
 },
 "nbformat": 4,
 "nbformat_minor": 5
}
