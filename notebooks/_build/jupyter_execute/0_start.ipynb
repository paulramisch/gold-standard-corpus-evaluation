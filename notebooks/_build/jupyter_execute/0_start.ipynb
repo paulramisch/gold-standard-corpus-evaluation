{
 "cells": [
  {
   "cell_type": "markdown",
   "id": "3993e848-d61b-4d3d-8f21-37efb19f39ff",
   "metadata": {},
   "source": [
    "Paul Ramisch\n",
    "\n",
    "# Goldstandard-Korpus-Evaluation als Methode digitaler Quellenkritik in den Geschichtswissenschaften am Beispiel des Open-Discourse-Korpus der Bundestagsprotokolle\n",
    "\n",
    "Humboldt-Universität zu Berlin  \n",
    "Philosophische Fakultät  \n",
    "Institut für Geschichtswissenschaften\n",
    "<hr />"
   ]
  },
  {
   "cell_type": "markdown",
   "id": "b37b739c-d91a-4bc6-8d68-1f6158d4cc9b",
   "metadata": {},
   "source": [
    "**tl;dr:** Die in dieser Arbeit entwickelte Goldstandard-Korpus-Evaluation ermöglicht eine teil-automatisierte Stichproben-Untersuchung, die starke strukturelle Mängel im Bundestags-Redebeitrags-Korpus Open Discourse offenbart und die Relevanz neuer Methoden digitaler Quellenkritik zeigt."
   ]
  },
  {
   "cell_type": "raw",
   "id": "f9ba1e89-b86d-46db-a9a3-23a4a1cb977c",
   "metadata": {},
   "source": []
  }
 ],
 "metadata": {
  "kernelspec": {
   "display_name": "Python 3 (ipykernel)",
   "language": "python",
   "name": "python3"
  },
  "language_info": {
   "codemirror_mode": {
    "name": "ipython",
    "version": 3
   },
   "file_extension": ".py",
   "mimetype": "text/x-python",
   "name": "python",
   "nbconvert_exporter": "python",
   "pygments_lexer": "ipython3",
   "version": "3.9.12"
  }
 },
 "nbformat": 4,
 "nbformat_minor": 5
}