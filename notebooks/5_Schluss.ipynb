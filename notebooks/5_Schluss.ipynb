{
 "cells": [
  {
   "cell_type": "markdown",
   "id": "ba148d55-f240-4772-9552-331718e573ad",
   "metadata": {},
   "source": [
    "# 5 Schluss\n",
    "Das Open-Discourse-Korpus illustriert eindringlich die Potenziale, Notwendigkeiten und Gefahren digitaler Quell-Datensätze. Es wäre leicht, die verschiedenen Fehlergruppen nur auf die konkreten methodisch-handwerklichen Probleme in der Definition von Erkennungsmustern zu reduzieren. Die Kombination vieler unterschiedlicher Fehlergruppen führt zu großen strukturellen Problemen und weist auf epistemologische Fehlannahmen hin. Die Komplexität der Rollenverteilung im Deutschen Bundestag wie auch der Sitzungen wurde nicht erkannt, die Modellierung bleibt hier eindimensional. Weiterhin stimmen die Angaben hinsichtlich der Qualität nicht, eine adäquate Qualitätskontrolle wurde versäumt.\n",
    "\n",
    "Mit einer Fehlerquote von 10 Prozent innerhalb des Gesamtkorpus und von 25 Prozent für Beiträge von Bundesregierungsmitgliedern eignet sich dieser Quell-Datensatz kaum für die historische Forschung. Dieses Beispiel zeigt, wie wichtig es ist, die Beschränkungen und potenziellen Verzerrungen automatisiert verarbeiteter Quellendatensätze und ihrer Modellierung zu berücksichtigen und mithilfe interdisziplinärer Ansätze zu untersuchen.\n",
    "\n",
    "Die hier vorgeschlagene Goldstandard-Korpus-Evaluation stellt eine Methode dar, neuen Herausforderungen für die Quellenkritik durch große Datensätze zu begegnen. Sie erfordert die Entwicklung von Fragen und Kategorien der Untersuchung, die in die Annotation einer Stichprobe des Untersuchungsgegenstands und die darauffolgende Messung und Analyse der Fehlercluster fließen. Damit ist die Methode weder eine einfache noch eine universelle Lösung, ermöglicht jedoch neue, quellenkritische Zugänge zu großen digitalen Quellensammlungen. Die Anwendung zur Untersuchung der automatisierten Extraktionen oder Strukturierung von Dokumenten ist dabei nur ein Anwendungsfall und kann für unterschiedliche Szenarien angepasst werden. \n",
    "\n",
    "Zukünftige Forschung und Reflexionen müssen sich vermehrt mit Methoden der automatisierten Evaluation für die ganze Bandbreite digitaler Untersuchungen beschäftigen, dem Distant Reading muss ein Distant Source Criticism zur Seite gestellt werden. Dies ist zwingend in Hinblick auf riesige Datenmengen und die zunehmende quantitative sowie qualitative automatisierte Bearbeitung von Quellen, denn in Zukunft werden sicherlich auch „(Be-)Wertungsentscheide manuell unterstützt oder gar autonom getroffen werden.“[[1]](#ref-1) Dabei ordnen sich diese neuen Methoden und Entwicklungen trotzdem in die Tradition historischer Quellenkritik ein, welche die Reflexion über die eigenen Urteile und Vorteile erfordert. "
   ]
  },
  {
   "cell_type": "markdown",
   "id": "c11add6f-d5d5-4fb6-97fe-2d85f55a7ebf",
   "metadata": {
    "tags": []
   },
   "source": [
    "*** \n",
    "<a name=\"ref_1\"></a> [1] Tobias Hodel, Die Maschine und die Geschichtswissenschaft: Der Einfluss von deep learning auf eine Disziplin, in: Digital History, 2022, https://doi.org/10.1515/9783110757101-004, S. 66."
   ]
  }
 ],
 "metadata": {
  "kernelspec": {
   "display_name": "Python 3 (ipykernel)",
   "language": "python",
   "name": "python3"
  },
  "language_info": {
   "codemirror_mode": {
    "name": "ipython",
    "version": 3
   },
   "file_extension": ".py",
   "mimetype": "text/x-python",
   "name": "python",
   "nbconvert_exporter": "python",
   "pygments_lexer": "ipython3",
   "version": "3.9.12"
  }
 },
 "nbformat": 4,
 "nbformat_minor": 5
}
